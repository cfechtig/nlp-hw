{
 "cells": [
  {
   "cell_type": "code",
   "execution_count": 3,
   "metadata": {},
   "outputs": [],
   "source": [
    "import torch\n",
    "from qanta_util.qbdata import QantaDatabase\n",
    "from lr_pytorch import GuessDataset, SimpleLogreg\n",
    "from tfidf_guesser import TfidfGuesser, write_guess_json\n",
    "from math import log\n",
    "import json"
   ]
  },
  {
   "cell_type": "code",
   "execution_count": 2,
   "metadata": {},
   "outputs": [],
   "source": [
    "train = QantaDatabase('data/small.guesstrain.json')\n",
    "dev = QantaDatabase('data/small.guessdev.json')"
   ]
  },
  {
   "cell_type": "code",
   "execution_count": 3,
   "metadata": {},
   "outputs": [],
   "source": [
    "tfidf_guesser = TfidfGuesser()\n",
    "tfidf_guesser.train(train, limit=-1)"
   ]
  },
  {
   "cell_type": "code",
   "execution_count": 4,
   "metadata": {},
   "outputs": [],
   "source": [
    "fold = dev.guess_dev_questions"
   ]
  },
  {
   "cell_type": "code",
   "execution_count": 5,
   "metadata": {},
   "outputs": [
    {
     "name": "stdout",
     "output_type": "stream",
     "text": [
      "['Along with orbitons and holons, quasiparticles carrying this property are formed from electrons in Luttinger liquids, which carry density waves in charge and this property. Similar wave-like disturban', 'Along with orbitons and holons, quasiparticles carrying this property are formed from electrons in Luttinger liquids, which carry density waves in charge and this property. Similar wave-like disturbances in the collective structure of this property for a crystal lattice are quantized into magnons. This property separates orthohydrogen from parahydrogen, and its total value is 0 for singlet states ', 'Along with orbitons and holons, quasiparticles carrying this property are formed from electrons in Luttinger liquids, which carry density waves in charge and this property. Similar wave-like disturbances in the collective structure of this property for a crystal lattice are quantized into magnons. This property separates orthohydrogen from parahydrogen, and its total value is 0 for singlet states and 1 for triplet states. This property causes a beam of silver atoms sent through an inhomogeneous magnetic field to split into two beams instead of forming a continuous band. This property, describe', 'Along with orbitons and holons, quasiparticles carrying this property are formed from electrons in Luttinger liquids, which carry density waves in charge and this property. Similar wave-like disturbances in the collective structure of this property for a crystal lattice are quantized into magnons. This property separates orthohydrogen from parahydrogen, and its total value is 0 for singlet states and 1 for triplet states. This property causes a beam of silver atoms sent through an inhomogeneous magnetic field to split into two beams instead of forming a continuous band. This property, described by a set of Hermitian unitary matrices named for Wolfgang Pauli, was discovered in the Stern-Gerlach experiment. For 10 points, name this intrinsic form of angular momentum, whose quantum number can', 'Along with orbitons and holons, quasiparticles carrying this property are formed from electrons in Luttinger liquids, which carry density waves in charge and this property. Similar wave-like disturbances in the collective structure of this property for a crystal lattice are quantized into magnons. This property separates orthohydrogen from parahydrogen, and its total value is 0 for singlet states and 1 for triplet states. This property causes a beam of silver atoms sent through an inhomogeneous magnetic field to split into two beams instead of forming a continuous band. This property, described by a set of Hermitian unitary matrices named for Wolfgang Pauli, was discovered in the Stern-Gerlach experiment. For 10 points, name this intrinsic form of angular momentum, whose quantum number can be plus or minus one-half for electrons.']\n"
     ]
    },
    {
     "data": {
      "text/plain": [
       "[[('Mass', 0.18090644947344686),\n",
       "  ('Refractive_index', 0.17805333129792436),\n",
       "  ('Prime_number', 0.17756848677231601),\n",
       "  ('Prime_number', 0.17756848677231601),\n",
       "  ('Superconductivity', 0.16988461850422262)],\n",
       " [('Mass', 0.23940426124158237),\n",
       "  ('Refractive_index', 0.23404879370343523),\n",
       "  ('Prime_number', 0.23176757888704846),\n",
       "  ('Prime_number', 0.23176757888704846),\n",
       "  ('Superconductivity', 0.2223251790946655)],\n",
       " [('Refractive_index', 0.24990805338589098),\n",
       "  ('Prime_number', 0.23817924348739059),\n",
       "  ('Prime_number', 0.23817924348739059),\n",
       "  ('Mass', 0.23542345600681913),\n",
       "  ('Spin_(physics)', 0.2271269832172998)],\n",
       " [('Spin_(physics)', 0.2804451169252644),\n",
       "  ('Spin_(physics)', 0.25181328547976783),\n",
       "  ('Spin_(physics)', 0.24790080285401428),\n",
       "  ('Spin_(physics)', 0.22886029369768995),\n",
       "  ('Spin_(physics)', 0.2246240014010114)],\n",
       " [('Spin_(physics)', 0.318749252752448),\n",
       "  ('Spin_(physics)', 0.2588195992166108),\n",
       "  ('Spin_(physics)', 0.24740512039213625),\n",
       "  ('Spin_(physics)', 0.2398361474149138),\n",
       "  ('Spin_(physics)', 0.22366232640696435)]]"
      ]
     },
     "execution_count": 5,
     "metadata": {},
     "output_type": "execute_result"
    }
   ],
   "source": [
    "runs = fold[0].runs(200)\n",
    "guesses = tfidf_guesser.guess(runs[0], max_n_guesses=5)\n",
    "print(runs[0])\n",
    "guesses"
   ]
  },
  {
   "cell_type": "code",
   "execution_count": 6,
   "metadata": {},
   "outputs": [
    {
     "name": "stdout",
     "output_type": "stream",
     "text": [
      "Mass 0.18090644947344686 200\n",
      "1\n",
      "False\n",
      "\n",
      "Mass 0.23940426124158237 400\n",
      "1\n",
      "False\n",
      "\n",
      "Refractive_index 0.24990805338589098 600\n",
      "1\n",
      "False\n",
      "\n",
      "Spin_(physics) 0.2804451169252644 800\n",
      "5\n",
      "False\n",
      "\n",
      "Spin_(physics) 0.318749252752448 841\n",
      "5\n",
      "False\n",
      "\n"
     ]
    }
   ],
   "source": [
    "for raw_guess, rr in zip(guesses, runs[0]):\n",
    "    gg, ss = raw_guess[0]\n",
    "    \n",
    "    disambig = False\n",
    "    if '(' in gg and ')' in gg:\n",
    "        disambig = gg[gg.find(\"(\")+1:gg.find(\")\")] in rr\n",
    "\n",
    "    print(gg, ss, len(rr))\n",
    "    # print(rr*ss)\n",
    "    print([x[0] for x in raw_guess].count(gg))\n",
    "    print(disambig)\n",
    "    print()"
   ]
  },
  {
   "cell_type": "code",
   "execution_count": 7,
   "metadata": {},
   "outputs": [],
   "source": [
    "import requests"
   ]
  },
  {
   "cell_type": "code",
   "execution_count": 2,
   "metadata": {},
   "outputs": [
    {
     "ename": "NameError",
     "evalue": "name 'requests' is not defined",
     "output_type": "error",
     "traceback": [
      "\u001b[0;31m---------------------------------------------------------------------------\u001b[0m",
      "\u001b[0;31mNameError\u001b[0m                                 Traceback (most recent call last)",
      "\u001b[0;32m<ipython-input-2-c327cc3a51c1>\u001b[0m in \u001b[0;36m<module>\u001b[0;34m\u001b[0m\n\u001b[0;32m----> 1\u001b[0;31m \u001b[0msession\u001b[0m \u001b[0;34m=\u001b[0m \u001b[0mrequests\u001b[0m\u001b[0;34m.\u001b[0m\u001b[0mSession\u001b[0m\u001b[0;34m(\u001b[0m\u001b[0;34m)\u001b[0m\u001b[0;34m\u001b[0m\u001b[0;34m\u001b[0m\u001b[0m\n\u001b[0m\u001b[1;32m      2\u001b[0m \u001b[0;34m\u001b[0m\u001b[0m\n\u001b[1;32m      3\u001b[0m \u001b[0murl\u001b[0m \u001b[0;34m=\u001b[0m \u001b[0;34m\"https://en.wikipedia.org/w/api.php\"\u001b[0m\u001b[0;34m\u001b[0m\u001b[0;34m\u001b[0m\u001b[0m\n\u001b[1;32m      4\u001b[0m \u001b[0;34m\u001b[0m\u001b[0m\n\u001b[1;32m      5\u001b[0m params = {\n",
      "\u001b[0;31mNameError\u001b[0m: name 'requests' is not defined"
     ]
    }
   ],
   "source": [
    "session = requests.Session()\n",
    "\n",
    "url = \"https://en.wikipedia.org/w/api.php\"\n",
    "\n",
    "params = {\n",
    "    \"action\": \"query\",\n",
    "    \"format\": \"json\",\n",
    "    \"titles\": \"Albert Einstein\",\n",
    "    \"prop\": \"links\",\n",
    "    \"pllimit\": \"max\",\n",
    "    \"plnamespace\": \"0\"\n",
    "}\n",
    "\n",
    "r = session.get(url=url, params=params)\n",
    "data = r.json()\n",
    "pages = data[\"query\"][\"pages\"]\n",
    "\n",
    "page_titles = []\n",
    "\n",
    "for key, val in pages.items():\n",
    "    for link in val[\"links\"]:\n",
    "        page_titles.append(link[\"title\"])\n",
    "\n",
    "while \"continue\" in data:\n",
    "    plcontinue = data[\"continue\"][\"plcontinue\"]\n",
    "    params[\"plcontinue\"] = plcontinue\n",
    "\n",
    "    response = session.get(url=url, params=params)\n",
    "    data = response.json()\n",
    "    pages = data[\"query\"][\"pages\"]\n",
    "\n",
    "    for key, val in pages.items():\n",
    "        for link in val[\"links\"]:\n",
    "            page_titles.append(link[\"title\"])\n",
    "\n",
    "print(\"%d titles found.\" % len(page_titles))\n",
    "# print(page_titles)"
   ]
  }
 ],
 "metadata": {
  "interpreter": {
   "hash": "08ec8d607d3a2c1251fee9198890f662b6c0badb692b43596bb5a6c6e8eaf4bf"
  },
  "kernelspec": {
   "display_name": "Python 3.9.4 64-bit ('base': conda)",
   "name": "python3"
  },
  "language_info": {
   "codemirror_mode": {
    "name": "ipython",
    "version": 3
   },
   "file_extension": ".py",
   "mimetype": "text/x-python",
   "name": "python",
   "nbconvert_exporter": "python",
   "pygments_lexer": "ipython3",
   "version": "3.9.4"
  },
  "orig_nbformat": 4
 },
 "nbformat": 4,
 "nbformat_minor": 2
}
