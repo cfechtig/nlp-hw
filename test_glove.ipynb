{
 "cells": [
  {
   "cell_type": "code",
   "execution_count": 1,
   "metadata": {},
   "outputs": [],
   "source": [
    "import numpy as np\n",
    "import dan"
   ]
  },
  {
   "cell_type": "code",
   "execution_count": 2,
   "metadata": {},
   "outputs": [],
   "source": [
    "def glove_dict(glove_file):\n",
    "    words = []\n",
    "    idx = 0\n",
    "    word2idx = {}\n",
    "    vectors = []\n",
    "\n",
    "    with open(glove_file, 'rb') as f:\n",
    "        for l in f:\n",
    "            line = l.decode().split()\n",
    "            word = line[0]\n",
    "            words.append(word)\n",
    "            word2idx[word] = idx\n",
    "            idx += 1\n",
    "            vect = np.array(line[1:]).astype(float)\n",
    "            vectors.append(vect)\n",
    "    \n",
    "    glove = {w: vectors[word2idx[w]] for w in words}\n",
    "    return glove"
   ]
  },
  {
   "cell_type": "code",
   "execution_count": 3,
   "metadata": {},
   "outputs": [],
   "source": [
    "glove_file = 'glove.6B.50d.txt'\n",
    "glove = glove_dict(glove_file)\n"
   ]
  },
  {
   "cell_type": "code",
   "execution_count": 14,
   "metadata": {},
   "outputs": [
    {
     "data": {
      "text/plain": [
       "400001"
      ]
     },
     "execution_count": 14,
     "metadata": {},
     "output_type": "execute_result"
    }
   ],
   "source": [
    "len(glove)"
   ]
  },
  {
   "cell_type": "code",
   "execution_count": 4,
   "metadata": {},
   "outputs": [
    {
     "data": {
      "text/plain": [
       "array([ 0.11008  , -0.38781  , -0.57615  , -0.27714  ,  0.70521  ,\n",
       "        0.53994  , -1.0786   , -0.40146  ,  1.1504   , -0.5678   ,\n",
       "        0.0038977,  0.52878  ,  0.64561  ,  0.47262  ,  0.48549  ,\n",
       "       -0.18407  ,  0.1801   ,  0.91397  , -1.1979   , -0.5778   ,\n",
       "       -0.37985  ,  0.33606  ,  0.772    ,  0.75555  ,  0.45506  ,\n",
       "       -1.7671   , -1.0503   ,  0.42566  ,  0.41893  , -0.68327  ,\n",
       "        1.5673   ,  0.27685  , -0.61708  ,  0.64638  , -0.076996 ,\n",
       "        0.37118  ,  0.1308   , -0.45137  ,  0.25398  , -0.74392  ,\n",
       "       -0.086199 ,  0.24068  , -0.64819  ,  0.83549  ,  1.2502   ,\n",
       "       -0.51379  ,  0.04224  , -0.88118  ,  0.7158   ,  0.38519  ])"
      ]
     },
     "execution_count": 4,
     "metadata": {},
     "output_type": "execute_result"
    }
   ],
   "source": [
    "glove['dog']"
   ]
  },
  {
   "cell_type": "code",
   "execution_count": 5,
   "metadata": {},
   "outputs": [],
   "source": [
    "### Load data\n",
    "train_exs = dan.load_data('data/qanta.train.json', -1)\n",
    "dev_exs = dan.load_data('data/qanta.dev.json', -1)\n",
    "test_exs = dan.load_data('data/qanta.test.json', -1)\n",
    "\n",
    "### Create vocab\n",
    "voc, word2ind, ind2word = dan.load_words(train_exs)"
   ]
  },
  {
   "cell_type": "code",
   "execution_count": 6,
   "metadata": {},
   "outputs": [
    {
     "data": {
      "text/plain": [
       "211931"
      ]
     },
     "execution_count": 6,
     "metadata": {},
     "output_type": "execute_result"
    }
   ],
   "source": [
    "word2ind['dog']"
   ]
  },
  {
   "cell_type": "code",
   "execution_count": 7,
   "metadata": {},
   "outputs": [
    {
     "data": {
      "text/plain": [
       "(313205, 50)"
      ]
     },
     "execution_count": 7,
     "metadata": {},
     "output_type": "execute_result"
    }
   ],
   "source": [
    "def glove_matrix(voc, glove):\n",
    "    matrix_len = len(voc)\n",
    "    weights_matrix = np.zeros((matrix_len, 50))\n",
    "    words_found = 0\n",
    "\n",
    "    for i, word in enumerate(voc):\n",
    "        try: \n",
    "            weights_matrix[i] = glove[word]\n",
    "            words_found += 1\n",
    "        except KeyError:\n",
    "            weights_matrix[i] = np.random.normal(scale=0.6, size=(50, ))\n",
    "\n",
    "    return weights_matrix\n",
    "\n",
    "weights_matrix = glove_matrix(voc, glove)\n",
    "weights_matrix.shape"
   ]
  },
  {
   "cell_type": "code",
   "execution_count": 8,
   "metadata": {},
   "outputs": [
    {
     "data": {
      "text/plain": [
       "array([ 0.11008  , -0.38781  , -0.57615  , -0.27714  ,  0.70521  ,\n",
       "        0.53994  , -1.0786   , -0.40146  ,  1.1504   , -0.5678   ,\n",
       "        0.0038977,  0.52878  ,  0.64561  ,  0.47262  ,  0.48549  ,\n",
       "       -0.18407  ,  0.1801   ,  0.91397  , -1.1979   , -0.5778   ,\n",
       "       -0.37985  ,  0.33606  ,  0.772    ,  0.75555  ,  0.45506  ,\n",
       "       -1.7671   , -1.0503   ,  0.42566  ,  0.41893  , -0.68327  ,\n",
       "        1.5673   ,  0.27685  , -0.61708  ,  0.64638  , -0.076996 ,\n",
       "        0.37118  ,  0.1308   , -0.45137  ,  0.25398  , -0.74392  ,\n",
       "       -0.086199 ,  0.24068  , -0.64819  ,  0.83549  ,  1.2502   ,\n",
       "       -0.51379  ,  0.04224  , -0.88118  ,  0.7158   ,  0.38519  ])"
      ]
     },
     "execution_count": 8,
     "metadata": {},
     "output_type": "execute_result"
    }
   ],
   "source": [
    "weights_matrix[word2ind['dog']]"
   ]
  },
  {
   "cell_type": "code",
   "execution_count": 9,
   "metadata": {},
   "outputs": [
    {
     "data": {
      "text/plain": [
       "array([ True,  True,  True,  True,  True,  True,  True,  True,  True,\n",
       "        True,  True,  True,  True,  True,  True,  True,  True,  True,\n",
       "        True,  True,  True,  True,  True,  True,  True,  True,  True,\n",
       "        True,  True,  True,  True,  True,  True,  True,  True,  True,\n",
       "        True,  True,  True,  True,  True,  True,  True,  True,  True,\n",
       "        True,  True,  True,  True,  True])"
      ]
     },
     "execution_count": 9,
     "metadata": {},
     "output_type": "execute_result"
    }
   ],
   "source": [
    "glove['dog'] == weights_matrix[word2ind['dog']]"
   ]
  },
  {
   "cell_type": "code",
   "execution_count": null,
   "metadata": {},
   "outputs": [],
   "source": []
  }
 ],
 "metadata": {
  "interpreter": {
   "hash": "08ec8d607d3a2c1251fee9198890f662b6c0badb692b43596bb5a6c6e8eaf4bf"
  },
  "kernelspec": {
   "display_name": "Python 3.9.4 64-bit ('base': conda)",
   "name": "python3"
  },
  "language_info": {
   "codemirror_mode": {
    "name": "ipython",
    "version": 3
   },
   "file_extension": ".py",
   "mimetype": "text/x-python",
   "name": "python",
   "nbconvert_exporter": "python",
   "pygments_lexer": "ipython3",
   "version": "3.9.4"
  },
  "orig_nbformat": 4
 },
 "nbformat": 4,
 "nbformat_minor": 2
}
