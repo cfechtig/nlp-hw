{
 "cells": [
  {
   "cell_type": "code",
   "execution_count": 1,
   "metadata": {},
   "outputs": [],
   "source": [
    "import torch\n",
    "from qanta_util.qbdata import QantaDatabase\n",
    "from lr_pytorch import GuessDataset, SimpleLogreg\n",
    "from tfidf_guesser import TfidfGuesser, write_guess_json\n",
    "from math import log"
   ]
  },
  {
   "cell_type": "code",
   "execution_count": 2,
   "metadata": {},
   "outputs": [],
   "source": [
    "train = QantaDatabase('data/small.guesstrain.json')\n",
    "dev = QantaDatabase('data/small.guessdev.json')"
   ]
  },
  {
   "cell_type": "code",
   "execution_count": 3,
   "metadata": {},
   "outputs": [],
   "source": [
    "tfidf_guesser = TfidfGuesser()\n",
    "tfidf_guesser.train(train, limit=-1)"
   ]
  },
  {
   "cell_type": "code",
   "execution_count": 4,
   "metadata": {},
   "outputs": [],
   "source": [
    "fold = dev.guess_dev_questions"
   ]
  },
  {
   "cell_type": "code",
   "execution_count": 5,
   "metadata": {},
   "outputs": [
    {
     "name": "stdout",
     "output_type": "stream",
     "text": [
      "['Along with orbitons and holons, quasiparticles carrying this property are formed from electrons in Luttinger liquids, which carry density waves in charge and this property. Similar wave-like disturban', 'Along with orbitons and holons, quasiparticles carrying this property are formed from electrons in Luttinger liquids, which carry density waves in charge and this property. Similar wave-like disturbances in the collective structure of this property for a crystal lattice are quantized into magnons. This property separates orthohydrogen from parahydrogen, and its total value is 0 for singlet states ', 'Along with orbitons and holons, quasiparticles carrying this property are formed from electrons in Luttinger liquids, which carry density waves in charge and this property. Similar wave-like disturbances in the collective structure of this property for a crystal lattice are quantized into magnons. This property separates orthohydrogen from parahydrogen, and its total value is 0 for singlet states and 1 for triplet states. This property causes a beam of silver atoms sent through an inhomogeneous magnetic field to split into two beams instead of forming a continuous band. This property, describe', 'Along with orbitons and holons, quasiparticles carrying this property are formed from electrons in Luttinger liquids, which carry density waves in charge and this property. Similar wave-like disturbances in the collective structure of this property for a crystal lattice are quantized into magnons. This property separates orthohydrogen from parahydrogen, and its total value is 0 for singlet states and 1 for triplet states. This property causes a beam of silver atoms sent through an inhomogeneous magnetic field to split into two beams instead of forming a continuous band. This property, described by a set of Hermitian unitary matrices named for Wolfgang Pauli, was discovered in the Stern-Gerlach experiment. For 10 points, name this intrinsic form of angular momentum, whose quantum number can', 'Along with orbitons and holons, quasiparticles carrying this property are formed from electrons in Luttinger liquids, which carry density waves in charge and this property. Similar wave-like disturbances in the collective structure of this property for a crystal lattice are quantized into magnons. This property separates orthohydrogen from parahydrogen, and its total value is 0 for singlet states and 1 for triplet states. This property causes a beam of silver atoms sent through an inhomogeneous magnetic field to split into two beams instead of forming a continuous band. This property, described by a set of Hermitian unitary matrices named for Wolfgang Pauli, was discovered in the Stern-Gerlach experiment. For 10 points, name this intrinsic form of angular momentum, whose quantum number can be plus or minus one-half for electrons.']\n"
     ]
    },
    {
     "data": {
      "text/plain": [
       "[[('Mass', 0.18090644947344686),\n",
       "  ('Refractive_index', 0.17805333129792436),\n",
       "  ('Prime_number', 0.17756848677231601),\n",
       "  ('Prime_number', 0.17756848677231601),\n",
       "  ('Superconductivity', 0.16988461850422262)],\n",
       " [('Mass', 0.23940426124158237),\n",
       "  ('Refractive_index', 0.23404879370343523),\n",
       "  ('Prime_number', 0.23176757888704846),\n",
       "  ('Prime_number', 0.23176757888704846),\n",
       "  ('Superconductivity', 0.2223251790946655)],\n",
       " [('Refractive_index', 0.24990805338589098),\n",
       "  ('Prime_number', 0.23817924348739059),\n",
       "  ('Prime_number', 0.23817924348739059),\n",
       "  ('Mass', 0.23542345600681913),\n",
       "  ('Spin_(physics)', 0.2271269832172998)],\n",
       " [('Spin_(physics)', 0.2804451169252644),\n",
       "  ('Spin_(physics)', 0.25181328547976783),\n",
       "  ('Spin_(physics)', 0.24790080285401428),\n",
       "  ('Spin_(physics)', 0.22886029369768995),\n",
       "  ('Spin_(physics)', 0.2246240014010114)],\n",
       " [('Spin_(physics)', 0.318749252752448),\n",
       "  ('Spin_(physics)', 0.2588195992166108),\n",
       "  ('Spin_(physics)', 0.24740512039213625),\n",
       "  ('Spin_(physics)', 0.2398361474149138),\n",
       "  ('Spin_(physics)', 0.22366232640696435)]]"
      ]
     },
     "execution_count": 5,
     "metadata": {},
     "output_type": "execute_result"
    }
   ],
   "source": [
    "runs = fold[0].runs(200)\n",
    "guesses = tfidf_guesser.guess(runs[0], max_n_guesses=5)\n",
    "print(runs[0])\n",
    "guesses"
   ]
  },
  {
   "cell_type": "code",
   "execution_count": 6,
   "metadata": {},
   "outputs": [
    {
     "name": "stdout",
     "output_type": "stream",
     "text": [
      "Mass 0.18090644947344686 200\n",
      "1\n",
      "False\n",
      "\n",
      "Mass 0.23940426124158237 400\n",
      "1\n",
      "False\n",
      "\n",
      "Refractive_index 0.24990805338589098 600\n",
      "1\n",
      "False\n",
      "\n",
      "Spin_(physics) 0.2804451169252644 800\n",
      "5\n",
      "False\n",
      "\n",
      "Spin_(physics) 0.318749252752448 841\n",
      "5\n",
      "False\n",
      "\n"
     ]
    }
   ],
   "source": [
    "for raw_guess, rr in zip(guesses, runs[0]):\n",
    "    gg, ss = raw_guess[0]\n",
    "    \n",
    "    disambig = False\n",
    "    if '(' in gg and ')' in gg:\n",
    "        disambig = gg[gg.find(\"(\")+1:gg.find(\")\")] in rr\n",
    "\n",
    "    print(gg, ss, len(rr))\n",
    "    # print(rr*ss)\n",
    "    print([x[0] for x in raw_guess].count(gg))\n",
    "    print(disambig)\n",
    "    print()"
   ]
  },
  {
   "cell_type": "code",
   "execution_count": 7,
   "metadata": {},
   "outputs": [],
   "source": [
    "import requests"
   ]
  },
  {
   "cell_type": "code",
   "execution_count": 9,
   "metadata": {},
   "outputs": [
    {
     "name": "stdout",
     "output_type": "stream",
     "text": [
      "1142 titles found.\n",
      "['1921 Nobel Peace Prize', '20th Century Press Archives', 'ADM formalism', 'A priori and a posteriori', 'Aage Bohr', 'Aarau', 'Abba Eban', 'Abdominal aortic aneurysm', 'Abdus Salam', 'Absent-minded professor', 'Absorption refrigerator', 'Action-angle variables', 'Adam Riess', 'Adiabatic invariant', 'Adolf Hitler', 'Aether (classical element)', 'African Americans', 'Afterlife', 'Agnosticism', 'Albert A. Michelson', 'Albert Calmette', \"Albert Einstein's brain\", 'Albert Einstein: Creator and Rebel', 'Albert Einstein (disambiguation)', 'Albert Einstein Archives', 'Albert Einstein Award', 'Albert Einstein House', 'Albert Einstein Medal', 'Albert Einstein Memorial', 'Albert Einstein Peace Prize', 'Albert Einstein World Award of Science', 'Albert Einstein in popular culture', 'Albert Fert', 'Albin Haller', 'Alchemy', 'Alexander Friedmann', 'Alexander Prokhorov', 'Alexei Abrikosov (physicist)', 'Alexis de Tocqueville', 'Alfonso XIII of Spain', 'Alfred Einstein', 'Alfred Kastler', 'Alfred Kleiner', 'Alfred Nobel', 'Alfred North Whitehead', 'Alfred Robb', 'Alfred Russel Wallace', 'Aliyah', 'Allies of World War II', 'Alternating current', 'American Physical Society', 'Analytic–synthetic distinction', 'Anatole France', 'Andre Geim', 'Andrea M. Ghez', 'Annalen der Physik', 'Annus Mirabilis papers', 'Annus mirabilis', 'Anthony James Leggett', 'Anti-realism', 'Antony Hewish', 'Antwerp', 'Apsidal precession', 'ArXiv (identifier)', 'Archibald Hill', 'Argentina', 'Aristotle', 'Arno Allan Penzias', 'Arnold Sommerfeld', 'Arthur Ashkin', 'Arthur B. McDonald', 'Arthur Compton', 'Arthur Eddington', 'Arthur Evans', 'Arthur Harry Church', 'Arthur Leonard Schawlow', 'Arthur Schopenhauer', 'Arthur Schuster', 'Arthur Stanley Eddington', 'Ashkenazi Jews', 'Aspect experiment', 'Astrophysics', 'Atom', 'Atomic theory', 'Auguste Comte', 'Austen Chamberlain', 'Austria-Hungary', 'Austro-Hungarian Empire', 'Averroes', 'Avicenna', 'BBC', 'BBC News', 'BKL singularity', 'BSSN formalism', \"Baer's law\", \"Baker's Biographical Dictionary of Musicians\", 'Barnard Medal for Meritorious Service to Science', 'Barry Barish', 'Baruch Spinoza', 'Bas van Fraassen', \"Beethoven's violin sonatas (disambiguation)\", 'Belgian Royal Family', \"Bell's theorem\", 'Ben Roy Mottelson', 'Berlin', 'Bern', 'Bern Historical Museum', 'Bernhard Caesar Einstein', 'Bernhard Riemann', 'Bertram Brockhouse', 'Bertrand Russell', 'Bibcode (identifier)', 'Bible', 'Biographical Memoirs of Fellows of the Royal Society', 'Biquaternion', 'Black hole', 'Black holes', 'Blackbody radiation', 'Bohr–Einstein debates', 'Bolsheviks', 'Bose–Einstein condensate', 'Bose–Einstein correlations', 'Bose–Einstein statistics', 'Boson', 'Branded Entertainment Network', 'Brandeis University', 'Brans–Dicke theory', 'Brian Josephson', 'Brian Schmidt', 'Brownian motion', 'Bruria Kaufman', 'Bulletin of the Atomic Scientists', 'Burton Richter', 'C. D. Broad', 'C. F. Powell', 'C. V. Raman', 'California Institute of Technology', 'Caltech', 'Capillary attraction', 'Carl David Anderson', 'Carl Gustav Hempel', 'Carl Laemmle', 'Carl Wieman', 'Carlo Rubbia', 'Catholic school', 'Causality', 'Ceylon', 'Chaim Weizmann', 'Chain reaction', 'Chamber music', 'Charles-Ferdinand University', 'Charles Algernon Parsons', 'Charles Glover Barkla', 'Charles H. Townes', 'Charles K. Kao', 'Charles R. Macauley', 'Charles Sanders Peirce', 'Charles Scott Sherrington', 'Charles Thomson Rees Wilson', 'Charles W. Misner', 'Charles Édouard Guillaume', 'Charlie Chaplin', 'Chinatown, Manhattan', 'Christ Church, Oxford', 'Christian Lous Lange', 'Christopher Hitchens', 'Cisleithania', 'Citizenship of the United States', 'City Lights', 'Civil rights movement (1896–1954)', 'Classical mechanics', 'Classical unified field theories', 'Claude Cohen-Tannoudji', 'Clifford Shull', 'Clinton Davisson', 'Coherentism', 'Columbia University', 'Commensurability (philosophy of science)', 'Compton scattering', 'Confirmation holism', 'Conrad Habicht', 'Conscription in Germany', 'Conscription in Switzerland', 'Consilience', 'Construct (philosophy)', 'Constructive empiricism', 'Constructive realism', 'Constructivist epistemology', 'Contextualism', 'Continuum mechanics', 'Conventionalism', 'Copenhagen interpretation', 'Copley Medal', \"Cormac O'Raifeartaigh\", 'Cosmological constant', 'Creative synthesis', 'Critical opalescence', 'Criticism of science', 'Critique of Pure Reason', 'Cromer', 'Curlie', 'Curvature', 'Daniel C. Tsui', 'Daniel Dennett', 'David Ben-Gurion', 'David Gross', 'David Hilbert', 'David Hume', 'David J. Thouless', 'David J. Wineland', 'David Lee (physicist)', 'David Lloyd George', 'Deductive-nomological model', 'Demarcation problem', 'Democracy in America', 'Dennis Gabor', 'Dennis Overbye', 'Descriptive research', 'Determinism', 'Didier Queloz', 'Die Grundlagen der Einsteinschen Relativitäts-Theorie', 'Differential calculus', 'Direct current', 'Dmitri Mendeleev', 'Doctoral advisor', 'Doi (identifier)', 'Dominicus Gundissalinus', 'Donald A. Glaser', 'Donna Strickland', 'Doubly special relativity', 'Douglas Osheroff', 'Dover', 'Duncan Haldane', 'E. T. Whittaker', 'EPR paradox', 'ETH', 'ETH Zurich', 'Edgar Adrian', 'Edmund Beecher Wilson', 'Eduard Suess', 'Edward Albert Sharpey-Schafer', 'Edward Arthur Milne', 'Edward Mills Purcell', 'Edward Teller', 'Edward Victor Appleton', 'Edwin Hubble', 'Einstein', \"Einstein's Cosmos\", \"Einstein's Gift\", \"Einstein's awards and honors\", \"Einstein's static universe\", \"Einstein's thought experiments\", \"Einstein's unsuccessful investigations\", 'Einstein: His Life and Universe', 'Einstein (disambiguation)', 'Einstein Papers Project', 'Einstein Prize (APS)', 'Einstein Prize for Laser Science', 'Einstein and Eddington', 'Einstein and Religion', 'Einstein coefficients', 'Einstein family', 'Einstein field equations', 'Einstein for Beginners', 'Einstein notation', 'Einstein radius', 'Einstein refrigerator', 'Einstein relation (kinetic theory)', 'Einstein solid', 'Einsteinhaus', 'Einsteinium', 'Einstein–Cartan theory', 'Einstein–Infeld–Hoffmann equations', 'Einstein–Rosen bridges', 'Einstein–Szilárd letter', 'Einstein–de Haas effect', 'Einstein–de Sitter universe', 'Electrical engineering', 'Electrodynamics', 'Electrolux', 'Electromagnetic field', 'Elsa Einstein', 'Elsa Löwenthal', 'Emilio Segrè', 'Empirical evidence', 'Empiricism', 'Enabling Act of 1933', 'Encyclopædia Britannica', 'Enrico Fermi', 'Ensemble interpretation', 'Epicureanism', 'Epistemological anarchism', 'Epistemology', 'Equivalence of mass and energy', 'Equivalence principle', 'Eric Allin Cornell', 'Eric Drummond', 'Eric Gutkind', 'Ernest Lawrence', 'Ernest Rutherford', 'Ernest Walton', 'Ernst Mach', 'Ernst Ruska', 'Ernst equation', 'Erwin Schrödinger', 'Ethical Culture', 'Eugene Wigner', \"Eustace Tennyson d'Eyncourt\", 'Evelyn Einstein', 'Event horizon', 'Evgeny Lifshitz', 'Evolutionism', 'Exact solutions in general relativity', 'Explanatory power', 'Ezriel Carlebach', 'Fact', 'Faith and rationality', 'Fallibilism', 'False attribution', 'Falsifiability', 'Farrar, Straus and Giroux', 'Felix Bloch', 'Felix Klein', 'Fellow of the Royal Society', 'Feminist method', 'Ferdinand Schmutzer', 'First Humanist Society of New York', 'First observation of gravitational waves', 'ForMemRS', 'Force', 'Foundationalism', 'Frame-dragging', 'Frame of reference', 'Francis Bacon', 'Francis Galton', 'Francis William Aston', 'Frank Wilczek', 'Franklin D. Roosevelt', 'François Englert', 'Frederick Alexander Lindemann', 'Frederick Gowland Hopkins', 'Frederick Lindemann, 1st Viscount Cherwell', 'Frederick Reines', 'Frederick Soddy', 'Free State of Prussia', 'Free fall', 'Friedmann equations', 'Friedmann–Lemaître–Robertson–Walker metric', 'Friedrich Wilhelm Joseph Schelling', 'Frist Campus Center', 'Frits Zernike', 'Fritz Zwicky', 'Functional contextualism', 'G. H. Hardy', 'G. I. Taylor', 'GEO600', 'Gabriel Lippmann', 'Galilean invariance', 'Galilean transformation', 'Galileo Galilei', 'Gauge invariance', 'Gauge symmetry', 'General covariance', 'General relativity', 'Geneva', 'Genius (American TV series)', 'Geodesic equation', 'Geodesics in general relativity', 'Geodetic effect', 'Georg Bednorz', 'George Darwin', 'George E. Smith', 'George Ellery Hale', 'George Paget Thomson', 'George Smoot', 'George William Hill', 'George de Hevesy', 'Georges Charpak', 'Georges Dreyer', 'Georges Lemaître', 'Gerald Holton', \"Gerard 't Hooft\", 'Gerd Binnig', 'German Democratic Party', 'German Empire', 'German National Library of Economics', 'German Physical Society', 'German Student Union', 'German citizenship', 'German culture', 'German nuclear energy project', 'German nuclear weapons program', 'Gestapo', 'Gilbert N. Lewis', 'Giorgio Parisi', 'Giuseppe Motta', 'Global government', 'God (word)', 'Gold Medal of the Royal Astronomical Society', 'Gonzague de Reynold', 'Gottfried Wilhelm Leibniz', 'Grading systems by country', 'Gravitational-wave astronomy', 'Gravitational-wave observatory', 'Gravitational lens', 'Gravitational lensing', 'Gravitational redshift', 'Gravitational singularity', 'Gravitational time dilation', 'Gravitational wave', 'Guglielmo Marconi', 'Gustaf Dalén', 'Gustav Ludwig Hertz', 'Gymnasium (school)', 'Gérard Mourou', 'Gödel metric', 'Haaretz', 'Hamilton–Jacobi equation', 'Hamilton–Jacobi–Einstein equation', 'Hannes Alfvén', 'Hans Albert Einstein', 'Hans Bethe', 'Hans Georg Dehmelt', 'Hans Reichenbach', 'Hanukkah', 'Hard and soft science', 'Harry Emerson Fosdick', 'Hdl (identifier)', 'Hebrew University of Jerusalem', 'Heike Kamerlingh Onnes', 'Heinrich Burkhardt', 'Heinrich Friedrich Weber', 'Heinrich Jacob Goldschmidt', 'Heinrich Rohrer', 'Hendrik Lorentz', 'Henri-Alexandre Deslandres', 'Henri Becquerel', 'Henri Poincaré', 'Henry Hallett Dale', 'Henry Way Kendall', 'Herbert Kroemer', 'Herbert Spencer', 'Hermann Bondi', 'Hermann Einstein', 'Hermann Minkowski', 'Hermann Weyl', 'Hideki Yukawa', 'Hiroshi Amano', 'Historically black college', 'History News Network', 'History and philosophy of science', 'History of evolutionary thought', 'History of general relativity', 'History of gravitational theory', 'History of physics', 'History of science', 'History of special relativity', 'Hitler Youth', 'Hjalmar Branting', 'Hole argument', 'Hollywood', 'Horace Lamb', 'Horace Tabberer Brown', 'Horst Ludwig Störmer', 'Howard P. Robertson', 'Hugh David Politzer', 'Hugh of Saint Victor', 'Hulse–Taylor binary', 'Humboldt University of Berlin', 'Hyperbolic orthogonality', 'Hypothetico-deductive model', 'I.Q. (film)', 'ISBN (identifier)', 'ISNI (identifier)', 'ISSN (identifier)', 'I Am Albert Einstein', 'Ian Hacking', 'Ideal gas', 'Ignoramus et ignorabimus', 'Igor Dmitriyevich Novikov', 'Igor Tamm', 'Ilya Frank', 'Immanuel Kant', 'Imre Lakatos', 'Index of philosophy of science articles', 'Inductionism', 'Inductive reasoning', 'Inquiry', 'Insignificance (film)', 'Institute for Advanced Study', 'Instrumentalism', 'Integral calculus', 'Interior Schwarzschild metric', 'Internal bleeding', 'International Committee on Intellectual Cooperation', 'Internet Archive', 'Interpretations of quantum mechanics', 'Intertheoretic reduction', 'Introducing Relativity', 'Introduction to general relativity', 'Isaac Newton', 'Isamu Akasaki', 'Isidor Isaac Rabi', 'Israel', 'Ivan Pavlov', 'Ivar Giaever', 'J. Hans D. Jensen', 'J. J. Thomson', 'J. Michael Kosterlitz', 'J. Robert Oppenheimer', 'J. S. Bell', 'JILA', 'JSTOR (identifier)', 'Jack Kilby', 'Jack Steinberger', 'Jakob Laub', 'James Chadwick', 'James Clerk Maxwell', 'James Cronin', 'James Dewar', 'James Franck', 'James Rainwater', 'Jean Baptiste Perrin', 'Jerome Isaac Friedman', 'Jewish people', 'Jewish quota', 'Jewish religion', 'Jews as the chosen people', 'Jim Peebles', 'Jimmy Walker', 'Johannes Diderik van der Waals', 'Johannes Stark', 'John Archibald Wheeler', 'John Bardeen', 'John C. Mather', 'John C. Wells', 'John Charles Grant Ledingham', 'John Cockcroft', 'John Francis Hylan', 'John Hasbrouck Van Vleck', 'John Herbert Parsons', 'John L. Hall', 'John Robert Schrieffer', 'John Scott Haldane', 'John Stachel', 'John Stuart Mill', 'John William Strutt, 3rd Baron Rayleigh', 'John von Neumann', 'Johns Hopkins University Press', 'Joseph Barcroft', 'Joseph Goebbels', 'Joseph Hooton Taylor Jr.', 'Joseph Larmor', 'Joseph Lister', 'Josiah Willard Gibbs', 'Jost Winteler', 'Juilliard Quartet', 'Julian Schwinger', 'Julio Rey Pastor', 'Jørgen Vogt', 'Jürgen Ehlers', 'Jürgen Habermas', 'K. Alex Müller', 'Kai Siegbahn', 'Kaiser Wilhelm Institute', 'Kaiser Wilhelm Institute for Physics', 'Kaluza–Klein theory', 'Karl-Ferdinands-Universität', 'Karl Ferdinand Braun', 'Karl Pearson', 'Karl Popper', 'Karl Schwarzschild', 'Kasner metric', 'Kennedy J. P. Orton', 'Kenneth G. Wilson', 'Kerr metric', 'Kerr–Newman metric', 'Kinematics', \"King's College London\", 'Kingdom of Prussia', 'Kingdom of Württemberg', 'Kip Thorne', 'Klaus Hasselmann', 'Klaus von Klitzing', 'Konstantin Novoselov', 'Kurt Gödel', 'Köchel catalog', 'LIGO', 'LIGO Scientific Collaboration', 'LISA Pathfinder', 'Ladder paradox', 'Lagrangian (field theory)', 'Langston Hughes', 'Larry Laudan', 'Laser', 'Lawrence Bragg', 'League of Nations', 'Leiden University', 'Lemaître–Tolman metric', 'Length contraction', 'Lense–Thirring precession', 'Leo Esaki', 'Leon Botstein', 'Leon Cooper', 'Leon M. Lederman', 'Leopold Infeld', 'Leopoldo Lugones', 'Lev Landau', 'Leó Szilárd', 'Liberalism', 'LibriVox', 'Lieserl Einstein', 'Life magazine', 'Light cone', 'Lincoln University (Pennsylvania)', 'Linearized gravity', 'Linus Pauling', 'List of Fellows of the Royal Society elected in 1921', 'List of German inventors and discoverers', 'List of Jewish Nobel laureates', 'List of Nobel laureates', 'List of Nobel laureates in Physics', 'List of contributors to general relativity', 'List of coupled cousins', 'List of fellows of the Royal Society elected in 1921', 'List of peace activists', 'List of philosophers of science', 'List of scientific publications by Albert Einstein', 'List of things named after Albert Einstein', 'Local realism', 'Logic', 'Lorentz invariance', 'Lorentz transformation', 'Louis Néel', 'Louis de Broglie', 'Ludwig van Beethoven', 'Luis Walter Alvarez', 'Luminiferous aether', 'Luminiferous ether', 'MBA (identifier)', \"Mach's principle\", 'Madison Square Garden', 'Mahatma Gandhi', 'Maja Einstein', 'Makoto Kobayashi (physicist)', 'Malaria', 'Mandatory Palestine', 'Manhattan Project', 'Manifesto of the Ninety-Three', 'Manifesto to the Europeans', 'Manne Siegbahn', 'Marcel Grossmann', 'Maria Goeppert Mayer', 'Marie Curie', 'Mario Livio', 'Martin Gilbert', 'Martin Lewis Perl', 'Martin Ryle', 'Martinus J. G. Veltman', 'Marxists Internet Archive', 'Masatoshi Koshiba', 'Maser', 'Mass in special relativity', 'Mass–energy equivalence', 'Mathematics of general relativity', 'Matter', 'Matter wave', 'Matteucci Medal', 'Matura', 'Maurice Solovine', 'Max Born', 'Max Planck', 'Max Planck Institute', 'Max Planck Medal', 'Max von Laue', \"Maxwell's equations\", 'Meander', 'Medscape', 'Melvin Schwartz', 'Member of the National Academy of Sciences', 'Menahem Ussishkin', 'Meritocracy', 'Metaphysics', 'Metropolitan Opera', 'Michael Polanyi', 'Michel Mayor', 'Michele Besso', 'Milan', 'Mileva Marić', 'Milne model', 'Minkowski diagram', 'Minkowski space', 'Model-dependent realism', 'Modern physics', 'Momentum', 'Moritz Schlick', 'Mozart violin sonatas', 'Munich', 'Murder of the family of Robert Einstein', 'Murray Gell-Mann', 'NPR', 'Nathan Rosen', 'National Academy of Science', 'National Association for the Advancement of Colored People', 'National Institute of Standards and Technology', 'Nationalism', 'Naturalism (philosophy)', 'Nature (journal)', 'Nature (philosophy)', 'Nazi Germany', 'Nazi book burnings', 'Neuroscience', 'Neutron stars', 'Nevill Francis Mott', 'New Humanist', 'New Jersey', 'New York Society for Ethical Culture', \"Newton's law of universal gravitation\", 'Nicolaas Bloembergen', 'Nicolas Slonimsky', 'Niels Bohr', 'Nikolay Basov', 'Nobel Foundation', 'Nobel Peace Prize', 'Nobel Prize', 'Nobel Prize in Chemistry', 'Nobel Prize in Literature', 'Nobel Prize in Physics', 'Nobel Prize in Physiology or Medicine', \"Noether's theorem\", 'Norman Foster Ramsey Jr.', 'Normative science', 'Novi Sad', 'Nuclear weapons', 'OCLC (identifier)', 'Objectivity (philosophy)', 'Observation', 'Office of Scientific and Technical Information', 'Old Cantonal School Aarau', 'Old quantum theory', 'Ole Colbjørnsen', 'Oliver Locker-Lampson', 'Olsberg, Aargau', 'Olympia Academy', 'Oskar Halecki', 'Ostend', 'Oswald Avery', 'Otto Neurath', 'Otto Stern', 'Owen Chamberlain', 'Owen Willans Richardson', 'Oxford', 'Ozsváth–Schücking metric', 'PMC (identifier)', 'PMID (identifier)', 'PSR B1913+16', 'Pacifism', 'Palestine (region)', 'Pantheism', 'Paradigm', 'Parameterized post-Newtonian formalism', 'Patent application', 'Patent examiner', 'Patrick Blackett', 'Paul Dirac', 'Paul Feyerabend', 'Paul Halpern', 'Paul Langevin', 'Pauline Koch', 'Pavel Cherenkov', 'Pavia', 'Penn Medicine Princeton Medical Center', 'Penrose diagram', 'Percy Williams Bridgman', 'Periodic table of the elements', 'Personal god', 'Personality rights', 'Peter Bergmann', 'Peter Debye', 'Peter Galison', 'Peter Grünberg', 'Peter Higgs', 'Philip W. Anderson', 'Philipp Lenard', 'Phillip Forman', 'Philosophical analysis', 'Philosophy', 'Philosophy of artificial intelligence', 'Philosophy of biology', 'Philosophy of chemistry', 'Philosophy of computer science', 'Philosophy of engineering', 'Philosophy of geography', 'Philosophy of information', 'Philosophy of mind', 'Philosophy of motion', 'Philosophy of perception', 'Philosophy of physics', 'Philosophy of psychiatry', 'Philosophy of psychology', 'Philosophy of science', 'Philosophy of social science', 'Philosophy of space and time', 'Philosophy of technology', 'Philosophy of thermal and statistical physics', 'Photoelectric effect', 'Photon', 'Phys. Rev. Lett.', 'Physical Review', 'Physical cosmology', 'Physicalism', 'Physics', 'Physics Today', 'Physics World', 'Pierre-Gilles de Gennes', 'Pierre Curie', 'Pierre Duhem', 'Pierre Gassendi', 'Pierre Paul Émile Roux', 'Pieter Zeeman', \"Planck's constant\", 'Planck spectrum', 'Planck–Einstein relation', 'Plato', 'Point particle', 'Political views of Albert Einstein', 'Polykarp Kusch', 'Positivism', 'Pp-wave spacetime', 'Pragmatism', 'Prague', 'President of Israel', 'Princeton, New Jersey', 'Princeton University', 'Princeton University Press', 'Principle of relativity', 'Privatdozent', 'Pro forma', 'Problem of induction', 'Project Gutenberg', 'Proper length', 'Proper time', 'Prussian Academy of Sciences', 'Pseudoscience', 'Public Broadcasting Service', 'Pulsar timing array', 'Pyotr Kapitsa', 'Pythagorean theorem', 'Quantization (physics)', 'Quantum', 'Quantum chaos', 'Quantum entanglement', 'Quantum gravity', 'Quantum information theory', 'Quantum mechanics', 'Quantum physics', 'Quotations', 'RERO (identifier)', 'RISM (identifier)', 'Rabindranath Tagore', 'Rainer Weiss', 'Rapidity', 'Rationalism', 'Rationalist Association', 'Ray Lankester', 'Raychaudhuri equation', 'Rayleigh scattering', 'Raymond Davis Jr.', 'Received view of theories', 'Reductionism', 'Reinhard Genzel', 'Reissner–Nordström metric', 'Relationship between religion and science', 'Relativistic Doppler effect', 'Relativistic disk', 'Relativity: The Special and the General Theory', 'Relativity of simultaneity', 'Relativity priority dispute', \"Relics: Einstein's Brain\", 'Religious and philosophical views of Albert Einstein', 'René Descartes', 'Rest energy', 'Rhetoric of science', 'Riccardo Giacconi', 'Richard E. Taylor', 'Richard Feynman', 'Riemannian geometry', 'Rio de Janeiro, Brazil', 'Riverside Church', 'Robert A. Millikan', 'Robert Andrews Millikan', 'Robert B. Laughlin', 'Robert Coleman Richardson', 'Robert Geroch', 'Robert Hofstadter', 'Robert Kilwardby', 'Robert Millikan', 'Robert Robinson (chemist)', 'Robert Woodrow Wilson', 'Roger Bacon', 'Roger Highfield', 'Roger Penrose', 'Ronald W. Clark', 'Rote learning', 'Roughton, Norfolk', 'Roy J. Glauber', 'Roy Kerr', 'Royal Astronomical Society', 'Royal Netherlands Academy of Arts and Sciences', 'Royal Society', 'Rudolf Carnap', 'Rudolf Mössbauer', 'Rudolf Steiner', 'Rudolph Nissen', 'Russell Alan Hulse', 'Russell–Einstein Manifesto', 'S. N. Bose', 'S2CID (identifier)', 'SUDOC (identifier)', 'Samuel C. C. Ting', 'Santiago Ramón y Cajal', 'Satyendra Nath Bose', 'Saul Perlmutter', 'Scarlet fever', 'Schizophrenia', 'Schwarzschild black hole', 'Schwarzschild metric', 'Science studies', 'Scientific American', 'Scientific celebrity', 'Scientific essentialism', 'Scientific formalism', 'Scientific law', 'Scientific method', 'Scientific realism', 'Scientific revolution', 'Scientific skepticism', 'Scientific theory', 'Scientism', 'Second quantization', 'Secular humanist', 'Semantic view of theories', 'Serbs', 'Serge Haroche', 'Sergei Konenkov', 'Shapiro time delay', 'Sheldon Lee Glashow', \"Shin'ichirō Tomonaga\", 'Shing-Tung Yau', 'Shuji Nakamura', 'Siegbert Einstein', 'Sigmund Freud', 'Silvan S. Schweber', 'Simon van der Meer', 'Sir Herbert Samuel', 'Skeptical Inquirer', 'Social Studies of Science', 'Socialism', 'Sociology of scientific ignorance', 'Sociology of scientific knowledge', 'Solar eclipse', 'Solar eclipse of 29 May 1919', 'Solvay Conference', 'Space', 'Spacetime', 'Special relativity', 'Special theory of relativity', 'Speed of light', 'Spinozism', 'Stanley Sadie', 'Statelessness', 'Statistical mechanics', 'Statistical physics', 'Steady State theory', 'Stephen Hawking', 'Steven Chu', 'Steven Weinberg', 'Sticky bead argument', 'Stimulated emission', 'Stoicism', 'Stress–energy–momentum pseudotensor', 'String theory', 'Strong nuclear force', 'Structuralism (philosophy of science)', 'Subrahmanyan Chandrasekhar', 'Subtle is the Lord', 'Subtle is the Lord: The Science and the Life of Albert Einstein', 'Superconductivity', 'Swiss Federal Institute of Intellectual Property', 'Swiss Patent Office', 'Switzerland', 'Syukuro Manabe', 'Takaaki Kajita', 'Taub–NUT space', 'Tea leaf paradox', 'Teleparallelism', 'Testability', 'Tests of general relativity', 'The Einstein Theory of Relativity', 'The Evolution of Physics', 'The Friedmann-Einstein universe', 'The Guardian', 'The Independent', 'The Journal of Ecclesiastical History', 'The Meaning of Relativity', 'The New Grove Dictionary of Music and Musicians', 'The New York Review of Books', 'The New York Times', 'The New Yorker', 'The Portable Atheist', 'The Times', 'The World as I See It (book)', 'Theobald Smith', 'Theodor W. Hänsch', 'Theoretical physics', 'Theory-ladenness', 'Theory choice', 'Theory of everything', 'Theory of gravitation', 'Theory of relativity', 'Thermal fluctuations', 'Thermodynamic', 'Thermodynamics', 'Thesis', 'Thomas Hobbes', 'Thomas Hunt Morgan', 'Thomas Kuhn', 'Thomas Lewis (cardiologist)', 'Thomas Martin Einstein', 'Thomas Stoltz Harvey', 'Thomas Young (scientist)', 'Thomas precession', 'Thurgood Marshall', 'Time (magazine)', 'Time 100: The Most Important People of the Century', 'Time dilation', 'Tokyo Imperial Palace', 'Tolman–Oppenheimer–Volkoff equation', 'Torsion pendulum', 'Torsion tensor', 'Toshihide Maskawa', 'Trademark', 'Translational symmetry', 'Trenton, New Jersey', 'Trove (identifier)', 'Tsung-Dao Lee', 'Turkey', 'Twin paradox', 'Two-body problem in general relativity', 'UNESCO', 'UNESCO Albert Einstein medal', 'Udny Yule', 'Ulm', 'Ultracold atom', 'Underdetermination', 'Unified field theory', 'Uniformitarianism', 'United States', 'Unity of science', 'Universal Studios', 'University of Berlin', 'University of Bern', 'University of Buenos Aires', 'University of Colorado at Boulder', 'University of Oxford', 'University of Zurich', 'University of Zürich', 'Universität Zürich', 'Upton Sinclair', 'Uruguay', 'V. A. Sundaram', 'VIAF (identifier)', 'Val Logsdon Fitch', 'Van Stockum dust', 'Vera Weizmann', 'Victor Francis Hess', 'Violin', 'Virgo interferometer', 'Viscount Haldane', 'Vitalism', 'Vitaly Ginzburg', 'Vladimir Lenin', 'W. E. B. Du Bois', 'Walter Houser Brattain', 'Walter Isaacson', 'Walther Bothe', 'Walther Nernst', 'Wave', 'Wave–particle duality', 'Wayback Machine', 'Weak nuclear force', 'WebCite', 'Weimar Republic', 'Werner Heisenberg', 'Weyl−Lewis−Papapetrou coordinates', 'White House', 'Why Socialism?', \"Wien's displacement law\", 'Wilfred Eade Agar', 'Wilfrid Israel', 'Wilhelm Röntgen', 'Wilhelm Wien', 'Wilhelm Windelband', 'Wilhelm Wundt', 'Willard Boyle', 'Willard Van Orman Quine', 'Willem de Sitter', 'William Alfred Fowler', 'William Bayliss', 'William Crookes', 'William Daniel Phillips', 'William Eccles (physicist)', 'William Henry Bragg', 'William Shockley', 'William Thomas Calman', 'William Whewell', 'William of Ockham', 'Willis Lamb', 'Winston Churchill', 'Wolfgang Amadeus Mozart', 'Wolfgang Ketterle', 'Wolfgang Paul', 'Wolfgang Pauli', 'World Digital Library', 'World War II', 'World Zionist Organization', 'World line', 'Wormhole', 'Yakov Zeldovich', 'Yang Chen-Ning', 'Yoichiro Nambu', 'Yvonne Choquet-Bruhat', 'Zeitschrift für Physik', 'Zero-point energy', 'Zhores Alferov', 'Zionism', 'Zoellner Quartet', 'Zurich', 'Zürich', 'Élie Metchnikoff', 'Über die von der molekularkinetischen Theorie der Wärme geforderte Bewegung von in ruhenden Flüssigkeiten suspendierten Teilchen', 'İsmet İnönü']\n"
     ]
    }
   ],
   "source": [
    "session = requests.Session()\n",
    "\n",
    "url = \"https://en.wikipedia.org/w/api.php\"\n",
    "\n",
    "params = {\n",
    "    \"action\": \"query\",\n",
    "    \"format\": \"json\",\n",
    "    \"titles\": \"Albert Einstein\",\n",
    "    \"prop\": \"links\",\n",
    "    \"pllimit\": \"max\",\n",
    "    \"plnamespace\": \"0\"\n",
    "}\n",
    "\n",
    "r = session.get(url=url, params=params)\n",
    "data = r.json()\n",
    "pages = data[\"query\"][\"pages\"]\n",
    "\n",
    "page_titles = []\n",
    "\n",
    "for key, val in pages.items():\n",
    "    for link in val[\"links\"]:\n",
    "        page_titles.append(link[\"title\"])\n",
    "\n",
    "while \"continue\" in data:\n",
    "    plcontinue = data[\"continue\"][\"plcontinue\"]\n",
    "    params[\"plcontinue\"] = plcontinue\n",
    "\n",
    "    response = session.get(url=url, params=params)\n",
    "    data = response.json()\n",
    "    pages = data[\"query\"][\"pages\"]\n",
    "\n",
    "    for key, val in pages.items():\n",
    "        for link in val[\"links\"]:\n",
    "            page_titles.append(link[\"title\"])\n",
    "\n",
    "print(\"%d titles found.\" % len(page_titles))\n",
    "print(page_titles)"
   ]
  },
  {
   "cell_type": "code",
   "execution_count": null,
   "metadata": {},
   "outputs": [],
   "source": []
  }
 ],
 "metadata": {
  "interpreter": {
   "hash": "08ec8d607d3a2c1251fee9198890f662b6c0badb692b43596bb5a6c6e8eaf4bf"
  },
  "kernelspec": {
   "display_name": "Python 3.9.4 64-bit ('base': conda)",
   "name": "python3"
  },
  "language_info": {
   "codemirror_mode": {
    "name": "ipython",
    "version": 3
   },
   "file_extension": ".py",
   "mimetype": "text/x-python",
   "name": "python",
   "nbconvert_exporter": "python",
   "pygments_lexer": "ipython3",
   "version": "3.9.4"
  },
  "orig_nbformat": 4
 },
 "nbformat": 4,
 "nbformat_minor": 2
}
